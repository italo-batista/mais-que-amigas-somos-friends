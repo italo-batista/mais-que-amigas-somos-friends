{
 "cells": [
  {
   "cell_type": "code",
   "execution_count": 128,
   "metadata": {
    "collapsed": true
   },
   "outputs": [],
   "source": [
    "import pandas as pd\n",
    "import numpy as np\n",
    "import time"
   ]
  },
  {
   "cell_type": "code",
   "execution_count": 240,
   "metadata": {
    "collapsed": true
   },
   "outputs": [],
   "source": [
    "historico = pd.read_csv('dados/historico2013-17.csv', sep=';')"
   ]
  },
  {
   "cell_type": "code",
   "execution_count": 241,
   "metadata": {},
   "outputs": [
    {
     "name": "stdout",
     "output_type": "stream",
     "text": [
      "---> Filtra CC\n"
     ]
    }
   ],
   "source": [
    "cc = historico[historico['CURSO'].str.contains(\"COMPUTAÇÃO\")]\n",
    "cc = cc.filter(items=['PERIODO', 'CODIGO', 'DISCIPLINA', 'MATRICULA'])\n",
    "\n",
    "print \"---> Filtra CC\""
   ]
  },
  {
   "cell_type": "code",
   "execution_count": 256,
   "metadata": {},
   "outputs": [
    {
     "name": "stdout",
     "output_type": "stream",
     "text": [
      "---> Filtra para períodos anteriores a 2015.1\n"
     ]
    }
   ],
   "source": [
    "cc = cc.loc[ cc['MATRICULA'] < 115000000 ]\n",
    "\n",
    "print \"---> Filtra para períodos anteriores a 2015.1\""
   ]
  },
  {
   "cell_type": "code",
   "execution_count": 258,
   "metadata": {
    "collapsed": true
   },
   "outputs": [],
   "source": [
    "global min_mat\n",
    "min_mat = cc['MATRICULA'].min()\n",
    "\n",
    "network = {}"
   ]
  },
  {
   "cell_type": "code",
   "execution_count": 259,
   "metadata": {},
   "outputs": [
    {
     "name": "stdout",
     "output_type": "stream",
     "text": [
      "Demorou 7.13259196281\n"
     ]
    }
   ],
   "source": [
    "PERIODO, CODIGO, DISCIPLINA, MATRICULA = 0, 1, 2, 3\n",
    "\n",
    "start = time.time()\n",
    "for grupo, obs in cc.groupby(['PERIODO', 'CODIGO']):\n",
    "    \n",
    "    for value_x in obs.get_values():\n",
    "        #print value_x[PERIODO], value_x[CODIGO], value_x[DISCIPLINA], value_x[MATRICULA]        \n",
    "        mat_x = value_x[MATRICULA] #- min_mat\n",
    "        \n",
    "        for value_y in obs.get_values():\n",
    "            #print value_y[PERIODO], value_y[CODIGO], value_y[DISCIPLINA], value_y[MATRICULA]\n",
    "            mat_y = value_y[MATRICULA] #- min_mat\n",
    "            \n",
    "            if mat_x != mat_y:\n",
    "                \n",
    "                if mat_x not in network:\n",
    "                    network[mat_x] = {}\n",
    "                \n",
    "                if mat_y not in network[mat_x]:\n",
    "                    network[mat_x][mat_y] = 0\n",
    "                \n",
    "                network[mat_x][mat_y] += 1\n",
    "\n",
    "end = time.time()\n",
    "print \"Demorou {}\".format(end - start)"
   ]
  },
  {
   "cell_type": "code",
   "execution_count": 260,
   "metadata": {},
   "outputs": [],
   "source": [
    "biggest_num_conns = {}\n",
    "\n",
    "for mat, conns in network.iteritems():\n",
    "    biggest_num_conns[mat] = int((np.mean(conns.values()) + max(conns.values())) / 2)"
   ]
  },
  {
   "cell_type": "code",
   "execution_count": 261,
   "metadata": {},
   "outputs": [],
   "source": [
    "same_num_conns = {}\n",
    "\n",
    "for mat, conns in network.iteritems():\n",
    "    my_n_conns = biggest_num_conns[mat]\n",
    "    my_same_n_conns= set(filter(lambda x: conns[x] >= my_n_conns, conns))\n",
    "    same_num_conns[mat] = my_same_n_conns"
   ]
  },
  {
   "cell_type": "code",
   "execution_count": 262,
   "metadata": {},
   "outputs": [],
   "source": [
    "def is_on_group(set_mother, me): \n",
    "    n_containing = len(list(filter(lambda adj: me in same_num_conns[adj], same_num_conns[set_mother])))\n",
    "    return (float(n_containing) / len(same_num_conns[set_mother])) >= 0.95    \n",
    "    \n",
    "def dfs(m):\n",
    "    visited[m] = True\n",
    "    my_components.append(m)\n",
    "    for adj in same_num_conns[m]:\n",
    "        if not visited[adj] and is_on_group(m, adj):\n",
    "            dfs(adj)\n",
    "            \n",
    "components = []\n",
    "visited = {m:False for m in network}\n",
    "for mat, values in same_num_conns.iteritems():\n",
    "    if not visited[mat]:\n",
    "        my_components = []\n",
    "        dfs(mat)\n",
    "        components.append(my_components)"
   ]
  },
  {
   "cell_type": "code",
   "execution_count": 263,
   "metadata": {
    "collapsed": true
   },
   "outputs": [],
   "source": [
    "clusters = []\n",
    "\n",
    "for component in components:\n",
    "    if len(component) > 1:\n",
    "        for i in range(len(component)-1, -1, -1):\n",
    "            new_row = {'source': component[i],\n",
    "                       'target': component[i-1]}\n",
    "            clusters.append(new_row)"
   ]
  },
  {
   "cell_type": "code",
   "execution_count": 264,
   "metadata": {
    "collapsed": true
   },
   "outputs": [],
   "source": [
    "output = pd.DataFrame(columns=('source', 'target'))\n",
    "output = pd.DataFrame(clusters)\n",
    "output.to_csv('dados/nets.csv', index=False)"
   ]
  },
  {
   "cell_type": "code",
   "execution_count": null,
   "metadata": {
    "collapsed": true
   },
   "outputs": [],
   "source": []
  }
 ],
 "metadata": {
  "kernelspec": {
   "display_name": "Python 2",
   "language": "python",
   "name": "python2"
  },
  "language_info": {
   "codemirror_mode": {
    "name": "ipython",
    "version": 2
   },
   "file_extension": ".py",
   "mimetype": "text/x-python",
   "name": "python",
   "nbconvert_exporter": "python",
   "pygments_lexer": "ipython2",
   "version": "2.7.12"
  }
 },
 "nbformat": 4,
 "nbformat_minor": 2
}

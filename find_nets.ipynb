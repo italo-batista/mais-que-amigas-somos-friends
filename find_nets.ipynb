{
 "cells": [
  {
   "cell_type": "code",
   "execution_count": 1,
   "metadata": {
    "collapsed": true
   },
   "outputs": [],
   "source": [
    "import pandas as pd\n",
    "import numpy as np"
   ]
  },
  {
   "cell_type": "code",
   "execution_count": 2,
   "metadata": {},
   "outputs": [],
   "source": [
    "cc = pd.read_csv('dados/matriculas_cc.csv', sep=',')"
   ]
  },
  {
   "cell_type": "code",
   "execution_count": 3,
   "metadata": {},
   "outputs": [],
   "source": [
    "PERIODO, CODIGO, DISCIPLINA, MATRICULA = 0, 1, 2, 3\n",
    "\n",
    "network = {}\n",
    "for group, obs in cc.groupby(['PERIODO', 'CODIGO']):\n",
    "    \n",
    "    for value_x in obs.get_values():\n",
    "        mat_x = value_x[MATRICULA]\n",
    "        \n",
    "        for value_y in obs.get_values():\n",
    "            mat_y = value_y[MATRICULA]\n",
    "            \n",
    "            if mat_x != mat_y:\n",
    "                \n",
    "                if mat_x not in network:\n",
    "                    network[mat_x] = {}\n",
    "                \n",
    "                if mat_y not in network[mat_x]:\n",
    "                    network[mat_x][mat_y] = 0\n",
    "                \n",
    "                network[mat_x][mat_y] += 1"
   ]
  },
  {
   "cell_type": "code",
   "execution_count": 5,
   "metadata": {},
   "outputs": [],
   "source": [
    "same_num_connections = {}\n",
    "\n",
    "for mat, connections in network.iteritems():\n",
    "    \n",
    "    my_connections_avg = np.mean(connections.values())\n",
    "    my_connections_max = max(connections.values())\n",
    "    my_n_connections = (my_connections_avg + my_connections_max) / 2\n",
    "    \n",
    "    my_same_n_connections= set(filter(lambda x: connections[x] >= my_n_connections and mat in connections, connections))\n",
    "    same_num_connections[mat] = my_same_n_connections"
   ]
  },
  {
   "cell_type": "code",
   "execution_count": 6,
   "metadata": {},
   "outputs": [],
   "source": [
    "def is_on_group(set_mother, me): \n",
    "    n_containing = len(list(filter(lambda adj: me in same_num_connections[adj], same_num_connections[set_mother])))\n",
    "    return float(n_containing) / len(same_num_connections[set_mother]) >= 0.9    \n",
    "    \n",
    "def dfs(m):\n",
    "    visited[m] = True\n",
    "    my_components.append(m)\n",
    "    for adj in same_num_connections[m]:\n",
    "        if not visited[adj] and is_on_group(m, adj):\n",
    "            dfs(adj)\n",
    "            \n",
    "components = []\n",
    "visited = {m:False for m in network}\n",
    "for mat, values in same_num_connections.iteritems():\n",
    "    if not visited[mat]:\n",
    "        my_components = []\n",
    "        dfs(mat)\n",
    "        components.append(my_components)"
   ]
  },
  {
   "cell_type": "code",
   "execution_count": 7,
   "metadata": {
    "collapsed": true
   },
   "outputs": [],
   "source": [
    "clusters = []\n",
    "\n",
    "for component in components:\n",
    "    if len(component) > 1:\n",
    "        for i in range(len(component)-1, -1, -1):\n",
    "            new_row = {'source': component[i],\n",
    "                       'target': component[i-1]}\n",
    "            clusters.append(new_row)"
   ]
  },
  {
   "cell_type": "code",
   "execution_count": 8,
   "metadata": {
    "collapsed": true
   },
   "outputs": [],
   "source": [
    "output = pd.DataFrame(columns=('source', 'target'))\n",
    "output = pd.DataFrame(clusters)\n",
    "output.to_csv('dados/nets.csv', index=False)"
   ]
  }
 ],
 "metadata": {
  "kernelspec": {
   "display_name": "Python 2",
   "language": "python",
   "name": "python2"
  },
  "language_info": {
   "codemirror_mode": {
    "name": "ipython",
    "version": 2
   },
   "file_extension": ".py",
   "mimetype": "text/x-python",
   "name": "python",
   "nbconvert_exporter": "python",
   "pygments_lexer": "ipython2",
   "version": "2.7.12"
  }
 },
 "nbformat": 4,
 "nbformat_minor": 2
}

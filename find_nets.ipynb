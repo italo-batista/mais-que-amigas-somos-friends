{
 "cells": [
  {
   "cell_type": "code",
   "execution_count": 23,
   "metadata": {
    "collapsed": true
   },
   "outputs": [],
   "source": [
    "import pandas as pd\n",
    "import numpy as np\n",
    "import time"
   ]
  },
  {
   "cell_type": "code",
   "execution_count": 24,
   "metadata": {
    "collapsed": true
   },
   "outputs": [],
   "source": [
    "historico = pd.read_csv('dados/historico2013-17.csv', sep=';')"
   ]
  },
  {
   "cell_type": "code",
   "execution_count": 25,
   "metadata": {},
   "outputs": [
    {
     "name": "stdout",
     "output_type": "stream",
     "text": [
      "---> Filtra CC\n"
     ]
    }
   ],
   "source": [
    "cc = historico[historico['CURSO'].str.contains(\"COMPUTAÇÃO\")]\n",
    "cc = cc.filter(items=['PERIODO', 'CODIGO', 'DISCIPLINA', 'MATRICULA'])\n",
    "\n",
    "print \"---> Filtra CC\""
   ]
  },
  {
   "cell_type": "code",
   "execution_count": 26,
   "metadata": {
    "collapsed": true
   },
   "outputs": [],
   "source": [
    "global min_mat\n",
    "min_mat = cc['MATRICULA'].min()\n",
    "\n",
    "n_rows =  cc.shape[0]\n",
    "network = {}"
   ]
  },
  {
   "cell_type": "code",
   "execution_count": 27,
   "metadata": {},
   "outputs": [
    {
     "name": "stdout",
     "output_type": "stream",
     "text": [
      "Demorou 10.0725421906\n"
     ]
    }
   ],
   "source": [
    "PERIODO, CODIGO, DISCIPLINA, MATRICULA = 0, 1, 2, 3\n",
    "\n",
    "start = time.time()\n",
    "for grupo, obs in cc.groupby(['PERIODO', 'CODIGO']):\n",
    "    #print grupo\n",
    "    \n",
    "    for value_x in obs.get_values():\n",
    "        #print value_x[PERIODO], value_x[CODIGO], value_x[DISCIPLINA], value_x[MATRICULA]        \n",
    "        mat_x = value_x[MATRICULA] - min_mat\n",
    "        \n",
    "        for value_y in obs.get_values():\n",
    "            #print value_y[PERIODO], value_y[CODIGO], value_y[DISCIPLINA], value_y[MATRICULA]\n",
    "            mat_y = value_y[MATRICULA] - min_mat\n",
    "            \n",
    "            if mat_x != mat_y:\n",
    "                \n",
    "                if mat_x not in network:\n",
    "                    network[mat_x] = {}\n",
    "                \n",
    "                if mat_y not in network[mat_x]:\n",
    "                    network[mat_x][mat_y] = 0\n",
    "                \n",
    "                network[mat_x][mat_y] += 1\n",
    "\n",
    "end = time.time()\n",
    "print \"Demorou {}\".format(end - start)"
   ]
  },
  {
   "cell_type": "code",
   "execution_count": 55,
   "metadata": {},
   "outputs": [],
   "source": [
    "biggest_num_conns = {}\n",
    "\n",
    "for mat, conns in network.iteritems():\n",
    "    biggest_num_conns[mat] = max(conns.values())"
   ]
  },
  {
   "cell_type": "code",
   "execution_count": 78,
   "metadata": {},
   "outputs": [],
   "source": [
    "same_num_conns = {}\n",
    "\n",
    "for mat, conns in network.iteritems():\n",
    "    my_n_conns = biggest_num_conns[mat]\n",
    "    my_same_n_conns= set(filter(lambda x: conns[x] == my_n_conns, conns))\n",
    "    same_num_conns[mat] = my_same_n_conns"
   ]
  },
  {
   "cell_type": "code",
   "execution_count": 83,
   "metadata": {},
   "outputs": [],
   "source": [
    "def dfs(m):\n",
    "    visited[m] = True\n",
    "    my_components.append(m)\n",
    "    for adj in same_num_conns[m]:\n",
    "        if not visited[adj] and set(my_components).issubset(same_num_conns[adj]):\n",
    "            dfs(adj)\n",
    "            \n",
    "components = []\n",
    "visited = {m:False for m in network}\n",
    "for mat, values in same_num_conns.iteritems():\n",
    "    if not visited[mat]:\n",
    "        my_components = []\n",
    "        dfs(mat)\n",
    "        components.append(my_components)"
   ]
  },
  {
   "cell_type": "code",
   "execution_count": 91,
   "metadata": {
    "collapsed": true
   },
   "outputs": [],
   "source": [
    "clusters = []\n",
    "\n",
    "for component in components:\n",
    "    if len(component) > 2:\n",
    "        for i in range(len(component)-1, -1, -1):\n",
    "            new_row = {'source': component[i],\n",
    "                       'target': component[i-1]}\n",
    "            clusters.append(new_row)"
   ]
  },
  {
   "cell_type": "code",
   "execution_count": 92,
   "metadata": {},
   "outputs": [],
   "source": [
    "output = pd.DataFrame(columns=('source', 'target'))\n",
    "output = pd.DataFrame(clusters)\n",
    "output.to_csv('dados/nets.csv', index=False)"
   ]
  },
  {
   "cell_type": "code",
   "execution_count": null,
   "metadata": {
    "collapsed": true
   },
   "outputs": [],
   "source": []
  }
 ],
 "metadata": {
  "kernelspec": {
   "display_name": "Python 2",
   "language": "python",
   "name": "python2"
  },
  "language_info": {
   "codemirror_mode": {
    "name": "ipython",
    "version": 2
   },
   "file_extension": ".py",
   "mimetype": "text/x-python",
   "name": "python",
   "nbconvert_exporter": "python",
   "pygments_lexer": "ipython2",
   "version": "2.7.12"
  }
 },
 "nbformat": 4,
 "nbformat_minor": 2
}
